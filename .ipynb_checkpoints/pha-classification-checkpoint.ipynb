{
 "cells": [
  {
   "cell_type": "markdown",
   "id": "1c298b01-6a63-4ff2-876e-a697db93bd18",
   "metadata": {},
   "source": [
    "# Setup"
   ]
  },
  {
   "cell_type": "code",
   "execution_count": 60,
   "id": "92c4d4b8-7253-4035-84fb-a66b3e148004",
   "metadata": {},
   "outputs": [],
   "source": [
    "import sklearn\n",
    "assert sklearn.__version__ >= \"0.20\"\n",
    "\n",
    "# To plot pretty figures\n",
    "%matplotlib inline\n",
    "import matplotlib as mpl\n",
    "import matplotlib.pyplot as plt\n",
    "mpl.rc('axes', labelsize=14)\n",
    "mpl.rc('xtick', labelsize=12)\n",
    "mpl.rc('ytick', labelsize=12)"
   ]
  },
  {
   "cell_type": "markdown",
   "id": "8ddcf2c2-af93-4eda-a166-7f657d6216f5",
   "metadata": {},
   "source": [
    "# Load dataset into variable"
   ]
  },
  {
   "cell_type": "code",
   "execution_count": 67,
   "id": "f0af9944-1274-4595-af8b-60122d20cb39",
   "metadata": {},
   "outputs": [],
   "source": [
    "import pandas as pd\n",
    "\n",
    "def load_asteroid_data():\n",
    "    #csv_path = \"shuffled_asteroids_head.csv\"\n",
    "    csv_path = \"../dataset.csv\"\n",
    "    return pd.read_csv(csv_path, low_memory=False)"
   ]
  },
  {
   "cell_type": "markdown",
   "id": "24b3b06c-cf68-4b3f-ab51-8c43d6f356f4",
   "metadata": {},
   "source": [
    "Features we can get rid of name, full_name, prefix, spkid, pdes. Split ID out and keep in seperate vector."
   ]
  },
  {
   "cell_type": "code",
   "execution_count": 68,
   "id": "48e4de44-996b-4b03-a0b3-eb402663bc94",
   "metadata": {},
   "outputs": [
    {
     "name": "stdout",
     "output_type": "stream",
     "text": [
      "<class 'pandas.core.frame.DataFrame'>\n",
      "Index: 938603 entries, 0 to 958523\n",
      "Data columns (total 45 columns):\n",
      " #   Column          Non-Null Count   Dtype  \n",
      "---  ------          --------------   -----  \n",
      " 0   id              938603 non-null  object \n",
      " 1   spkid           938603 non-null  int64  \n",
      " 2   full_name       938603 non-null  object \n",
      " 3   pdes            938603 non-null  object \n",
      " 4   name            22064 non-null   object \n",
      " 5   prefix          18 non-null      object \n",
      " 6   neo             938599 non-null  object \n",
      " 7   pha             938603 non-null  object \n",
      " 8   H               932341 non-null  float64\n",
      " 9   diameter        136209 non-null  float64\n",
      " 10  albedo          135103 non-null  float64\n",
      " 11  diameter_sigma  136081 non-null  float64\n",
      " 12  orbit_id        938603 non-null  object \n",
      " 13  epoch           938603 non-null  float64\n",
      " 14  epoch_mjd       938603 non-null  int64  \n",
      " 15  epoch_cal       938603 non-null  float64\n",
      " 16  equinox         938603 non-null  object \n",
      " 17  e               938603 non-null  float64\n",
      " 18  a               938603 non-null  float64\n",
      " 19  q               938603 non-null  float64\n",
      " 20  i               938603 non-null  float64\n",
      " 21  om              938603 non-null  float64\n",
      " 22  w               938603 non-null  float64\n",
      " 23  ma              938602 non-null  float64\n",
      " 24  ad              938599 non-null  float64\n",
      " 25  n               938603 non-null  float64\n",
      " 26  tp              938603 non-null  float64\n",
      " 27  tp_cal          938603 non-null  float64\n",
      " 28  per             938599 non-null  float64\n",
      " 29  per_y           938602 non-null  float64\n",
      " 30  moid            938603 non-null  float64\n",
      " 31  moid_ld         938603 non-null  float64\n",
      " 32  sigma_e         938602 non-null  float64\n",
      " 33  sigma_a         938602 non-null  float64\n",
      " 34  sigma_q         938602 non-null  float64\n",
      " 35  sigma_i         938602 non-null  float64\n",
      " 36  sigma_om        938602 non-null  float64\n",
      " 37  sigma_w         938602 non-null  float64\n",
      " 38  sigma_ma        938602 non-null  float64\n",
      " 39  sigma_ad        938598 non-null  float64\n",
      " 40  sigma_n         938602 non-null  float64\n",
      " 41  sigma_tp        938602 non-null  float64\n",
      " 42  sigma_per       938598 non-null  float64\n",
      " 43  class           938603 non-null  object \n",
      " 44  rms             938602 non-null  float64\n",
      "dtypes: float64(33), int64(2), object(10)\n",
      "memory usage: 329.4+ MB\n"
     ]
    }
   ],
   "source": [
    "asteroids = load_asteroid_data()\n",
    "#asteroids.head()\n",
    "asteroids = asteroids.dropna(subset=['pha']) \n",
    "asteroids.info()"
   ]
  },
  {
   "cell_type": "markdown",
   "id": "92dcfaed-b3cc-41f5-98ac-53ee0a590aba",
   "metadata": {},
   "source": [
    "# Converting object datatypes to numerical and standardizing data"
   ]
  },
  {
   "cell_type": "code",
   "execution_count": 56,
   "id": "88412f9f-6489-4447-8ca8-bcbb9bd58daa",
   "metadata": {},
   "outputs": [
    {
     "name": "stdout",
     "output_type": "stream",
     "text": [
      "[[ 0.  0.  6.]\n",
      " [ 0.  0.  6.]\n",
      " [ 0. nan  8.]\n",
      " ...\n",
      " [ 0.  0.  6.]\n",
      " [ 0.  0.  6.]\n",
      " [ 1.  0.  1.]]\n",
      "[[-1.94986177 -0.03972371  1.66879174 ... -0.01227037 -0.01534474\n",
      "  -1.21548345]\n",
      " [ 0.572599           nan         nan ... -0.01227037 -0.01534474\n",
      "  -0.19090077]\n",
      " [-0.1726735          nan         nan ...         nan         nan\n",
      "  -1.68393761]\n",
      " ...\n",
      " [ 0.572599           nan         nan ... -0.01227037 -0.01534474\n",
      "  -0.0539467 ]\n",
      " [-0.57397408         nan         nan ... -0.01227037 -0.01534474\n",
      "  -0.01070326]\n",
      " [ 5.73217784         nan         nan ... -0.01227036 -0.01533424\n",
      "  -0.65104269]]\n"
     ]
    }
   ],
   "source": [
    "from sklearn.preprocessing import OrdinalEncoder\n",
    "from sklearn.preprocessing import StandardScaler\n",
    "std_scaler = StandardScaler()\n",
    "ordinal_encoder = OrdinalEncoder()\n",
    "\n",
    "#dropping features we dont need\n",
    "asteroids = asteroids.drop(columns=['spkid', 'full_name', 'pdes', 'prefix', 'name', 'orbit_id', 'equinox'])\n",
    "\n",
    "#splitting features into numerical and categorical\n",
    "asteroids_num = asteroids.drop(columns=[\"id\", \"neo\", \"pha\", \"class\"])\n",
    "asteroids_id = asteroids[[\"id\"]]\n",
    "asteroids_cat = asteroids[[\"neo\", \"pha\", \"class\"]]\n",
    "\n",
    "#encode categorical features\n",
    "asteroid_cat_encoded = ordinal_encoder.fit_transform(asteroids_cat)\n",
    "\n",
    "#Normalizing numerical features\n",
    "std_scaler = StandardScaler()\n",
    "asteroids_num_scaled = std_scaler.fit_transform(asteroids_num)\n",
    "\n",
    "\n",
    "\n",
    "print(asteroid_cat_encoded)\n",
    "print(asteroids_num_scaled)\n",
    "    "
   ]
  },
  {
   "cell_type": "markdown",
   "id": "55b820c3-4569-48f4-80ba-670d9ce79ac0",
   "metadata": {},
   "source": [
    "Logisitic Regression"
   ]
  },
  {
   "cell_type": "code",
   "execution_count": 2,
   "id": "8c4b94bf-d6a6-496f-91bb-6956e94bbe9e",
   "metadata": {},
   "outputs": [
    {
     "ename": "NameError",
     "evalue": "name 'X_train' is not defined",
     "output_type": "error",
     "traceback": [
      "\u001b[0;31m---------------------------------------------------------------------------\u001b[0m",
      "\u001b[0;31mNameError\u001b[0m                                 Traceback (most recent call last)",
      "Cell \u001b[0;32mIn[2], line 20\u001b[0m\n\u001b[1;32m     16\u001b[0m     log_reg_accuracy \u001b[38;5;241m=\u001b[39m accuracy_score(y_test, y_pred)\n\u001b[1;32m     18\u001b[0m     \u001b[38;5;28;01mreturn\u001b[39;00m log_reg, log_reg_accuracy, log_reg_f1\n\u001b[0;32m---> 20\u001b[0m log_reg, log_reg_accuracy, log_reg_f1 \u001b[38;5;241m=\u001b[39m \u001b[43mlogistic_regression\u001b[49m\u001b[43m(\u001b[49m\u001b[43m)\u001b[49m\n\u001b[1;32m     22\u001b[0m \u001b[38;5;28mprint\u001b[39m(\u001b[38;5;124m\"\u001b[39m\u001b[38;5;124mAccuracy: \u001b[39m\u001b[38;5;124m\"\u001b[39m, log_reg_accuracy)\n\u001b[1;32m     23\u001b[0m \u001b[38;5;28mprint\u001b[39m(\u001b[38;5;124m\"\u001b[39m\u001b[38;5;124mMicro F1 score: \u001b[39m\u001b[38;5;124m\"\u001b[39m, log_reg_microf1)\n",
      "Cell \u001b[0;32mIn[2], line 8\u001b[0m, in \u001b[0;36mlogistic_regression\u001b[0;34m()\u001b[0m\n\u001b[1;32m      4\u001b[0m \u001b[38;5;28;01mdef\u001b[39;00m \u001b[38;5;21mlogistic_regression\u001b[39m():\n\u001b[1;32m      5\u001b[0m \n\u001b[1;32m      6\u001b[0m     \u001b[38;5;66;03m# Initialize and fit logistic regression\u001b[39;00m\n\u001b[1;32m      7\u001b[0m     log_reg \u001b[38;5;241m=\u001b[39m LogisticRegression(solver\u001b[38;5;241m=\u001b[39m\u001b[38;5;124m\"\u001b[39m\u001b[38;5;124mnewton-cg\u001b[39m\u001b[38;5;124m\"\u001b[39m, random_state\u001b[38;5;241m=\u001b[39m\u001b[38;5;241m42\u001b[39m)\n\u001b[0;32m----> 8\u001b[0m     log_reg\u001b[38;5;241m.\u001b[39mfit(\u001b[43mX_train\u001b[49m, y_train)\n\u001b[1;32m     10\u001b[0m     \u001b[38;5;66;03m# Make predictions with test data\u001b[39;00m\n\u001b[1;32m     11\u001b[0m     y_pred \u001b[38;5;241m=\u001b[39m log_red\u001b[38;5;241m.\u001b[39mpredict(X_test)\n",
      "\u001b[0;31mNameError\u001b[0m: name 'X_train' is not defined"
     ]
    }
   ],
   "source": [
    "from sklearn.linear_model import LogisticRegression\n",
    "from sklearn.metrics import accuracy_score, f1_score\n",
    "\n",
    "def logistic_regression():\n",
    "\n",
    "    # Initialize and fit logistic regression\n",
    "    log_reg = LogisticRegression(solver=\"newton-cg\", random_state=42)\n",
    "    log_reg.fit(X_train, y_train)\n",
    "\n",
    "    # Make predictions with test data\n",
    "    y_pred = log_red.predict(X_test)\n",
    "\n",
    "    # Model metrics\n",
    "    log_reg_microf1 = f1_score(y_test, y_pred, average=\"micro\")\n",
    "    log_reg_macrof1 = f1_score(y_test, y_pred, average=\"macro\")\n",
    "    log_reg_accuracy = accuracy_score(y_test, y_pred)\n",
    "\n",
    "    return log_reg, log_reg_accuracy, log_reg_f1\n",
    "\n",
    "log_reg, log_reg_accuracy, log_reg_f1 = logistic_regression()\n",
    "\n",
    "print(\"Accuracy: \", log_reg_accuracy)\n",
    "print(\"Micro F1 score: \", log_reg_microf1)\n",
    "print(\"Macro F1 score: \", log_reg_macrof1)\n",
    "\n",
    "    "
   ]
  },
  {
   "cell_type": "code",
   "execution_count": null,
   "id": "b065d4ef-d784-4a2f-9246-841d44b0459f",
   "metadata": {},
   "outputs": [],
   "source": []
  }
 ],
 "metadata": {
  "kernelspec": {
   "display_name": "Python 3 (ipykernel)",
   "language": "python",
   "name": "python3"
  },
  "language_info": {
   "codemirror_mode": {
    "name": "ipython",
    "version": 3
   },
   "file_extension": ".py",
   "mimetype": "text/x-python",
   "name": "python",
   "nbconvert_exporter": "python",
   "pygments_lexer": "ipython3",
   "version": "3.11.5"
  }
 },
 "nbformat": 4,
 "nbformat_minor": 5
}
