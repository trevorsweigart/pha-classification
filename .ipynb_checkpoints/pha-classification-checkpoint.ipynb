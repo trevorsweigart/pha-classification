{
 "cells": [
  {
   "cell_type": "markdown",
   "id": "1c298b01-6a63-4ff2-876e-a697db93bd18",
   "metadata": {},
   "source": [
    "# Setup"
   ]
  },
  {
   "cell_type": "code",
   "execution_count": 1,
   "id": "92c4d4b8-7253-4035-84fb-a66b3e148004",
   "metadata": {},
   "outputs": [],
   "source": [
    "import sklearn\n",
    "assert sklearn.__version__ >= \"0.20\"\n",
    "import numpy as np\n",
    "\n",
    "# To plot pretty figures\n",
    "%matplotlib inline\n",
    "import matplotlib as mpl\n",
    "import matplotlib.pyplot as plt\n",
    "mpl.rc('axes', labelsize=14)\n",
    "mpl.rc('xtick', labelsize=12)\n",
    "mpl.rc('ytick', labelsize=12)"
   ]
  },
  {
   "cell_type": "markdown",
   "id": "8ddcf2c2-af93-4eda-a166-7f657d6216f5",
   "metadata": {},
   "source": [
    "# Load dataset into variable"
   ]
  },
  {
   "cell_type": "code",
   "execution_count": 2,
   "id": "f0af9944-1274-4595-af8b-60122d20cb39",
   "metadata": {},
   "outputs": [],
   "source": [
    "import pandas as pd\n",
    "\n",
    "def load_asteroid_data():\n",
    "    #csv_path = \"shuffled_asteroids_head.csv\"\n",
    "    csv_path = \"../dataset.csv\"\n",
    "    return pd.read_csv(csv_path, low_memory=False)"
   ]
  },
  {
   "cell_type": "markdown",
   "id": "24b3b06c-cf68-4b3f-ab51-8c43d6f356f4",
   "metadata": {},
   "source": [
    "# Removing unneeded features and null features"
   ]
  },
  {
   "cell_type": "code",
   "execution_count": 3,
   "id": "48e4de44-996b-4b03-a0b3-eb402663bc94",
   "metadata": {},
   "outputs": [
    {
     "name": "stdout",
     "output_type": "stream",
     "text": [
      "<class 'pandas.core.frame.DataFrame'>\n",
      "Index: 932335 entries, 0 to 958523\n",
      "Data columns (total 35 columns):\n",
      " #   Column     Non-Null Count   Dtype  \n",
      "---  ------     --------------   -----  \n",
      " 0   id         932335 non-null  object \n",
      " 1   neo        932335 non-null  object \n",
      " 2   pha        932335 non-null  object \n",
      " 3   H          932335 non-null  float64\n",
      " 4   epoch      932335 non-null  float64\n",
      " 5   epoch_mjd  932335 non-null  int64  \n",
      " 6   epoch_cal  932335 non-null  float64\n",
      " 7   e          932335 non-null  float64\n",
      " 8   a          932335 non-null  float64\n",
      " 9   q          932335 non-null  float64\n",
      " 10  i          932335 non-null  float64\n",
      " 11  om         932335 non-null  float64\n",
      " 12  w          932335 non-null  float64\n",
      " 13  ma         932335 non-null  float64\n",
      " 14  ad         932335 non-null  float64\n",
      " 15  n          932335 non-null  float64\n",
      " 16  tp         932335 non-null  float64\n",
      " 17  tp_cal     932335 non-null  float64\n",
      " 18  per        932335 non-null  float64\n",
      " 19  per_y      932335 non-null  float64\n",
      " 20  moid       932335 non-null  float64\n",
      " 21  moid_ld    932335 non-null  float64\n",
      " 22  sigma_e    932335 non-null  float64\n",
      " 23  sigma_a    932335 non-null  float64\n",
      " 24  sigma_q    932335 non-null  float64\n",
      " 25  sigma_i    932335 non-null  float64\n",
      " 26  sigma_om   932335 non-null  float64\n",
      " 27  sigma_w    932335 non-null  float64\n",
      " 28  sigma_ma   932335 non-null  float64\n",
      " 29  sigma_ad   932335 non-null  float64\n",
      " 30  sigma_n    932335 non-null  float64\n",
      " 31  sigma_tp   932335 non-null  float64\n",
      " 32  sigma_per  932335 non-null  float64\n",
      " 33  class      932335 non-null  object \n",
      " 34  rms        932335 non-null  float64\n",
      "dtypes: float64(30), int64(1), object(4)\n",
      "memory usage: 256.1+ MB\n"
     ]
    }
   ],
   "source": [
    "asteroids = load_asteroid_data()\n",
    "#asteroids.head()\n",
    "asteroids = asteroids.dropna(subset=['pha'])\n",
    "asteroids = asteroids.dropna(subset=['sigma_e'])\n",
    "asteroids = asteroids.dropna(subset=['neo'])\n",
    "asteroids = asteroids.dropna(subset=['H'])\n",
    "asteroids = asteroids.dropna(subset=['ma'])\n",
    "asteroids = asteroids.drop(columns=['spkid', 'full_name', 'pdes', 'prefix', 'name', 'orbit_id', 'equinox', 'diameter', \"diameter_sigma\", \"albedo\"])\n",
    "asteroids.info()"
   ]
  },
  {
   "cell_type": "markdown",
   "id": "0efc0bfc-6f92-4cd3-ba25-4d224f092d06",
   "metadata": {},
   "source": []
  },
  {
   "cell_type": "markdown",
   "id": "92dcfaed-b3cc-41f5-98ac-53ee0a590aba",
   "metadata": {},
   "source": [
    "# Converting object datatypes to numerical and standardizing data"
   ]
  },
  {
   "cell_type": "code",
   "execution_count": 4,
   "id": "88412f9f-6489-4447-8ca8-bcbb9bd58daa",
   "metadata": {},
   "outputs": [],
   "source": [
    "from sklearn.preprocessing import OrdinalEncoder\n",
    "from sklearn.preprocessing import StandardScaler\n",
    "std_scaler = StandardScaler()\n",
    "ordinal_encoder = OrdinalEncoder()\n",
    "\n",
    "#splitting features into numerical and categorical\n",
    "asteroids_num = asteroids.drop(columns=[\"id\", \"neo\", \"pha\", \"class\"])\n",
    "asteroids_id = asteroids[[\"id\"]]\n",
    "asteroids_cat = asteroids[[\"neo\", \"pha\", \"class\"]]\n",
    "\n",
    "#encode categorical features\n",
    "asteroid_cat_encoded = ordinal_encoder.fit_transform(asteroids_cat)\n",
    "\n",
    "#Normalizing numerical features\n",
    "std_scaler = StandardScaler()\n",
    "asteroid_num_scaled = std_scaler.fit_transform(asteroids_num)\n",
    "\n",
    "    "
   ]
  },
  {
   "cell_type": "markdown",
   "id": "cde35eab-553d-45f9-b96d-8d6d39ec9468",
   "metadata": {},
   "source": [
    "# Creating features and labels "
   ]
  },
  {
   "cell_type": "code",
   "execution_count": 5,
   "id": "c0918a8a-cfdf-4cc9-8f44-504fab176c28",
   "metadata": {},
   "outputs": [
    {
     "name": "stdout",
     "output_type": "stream",
     "text": [
      "(932335, 33)\n",
      "(932335,)\n"
     ]
    }
   ],
   "source": [
    "X = np.concatenate((asteroid_cat_encoded, asteroid_num_scaled), axis=1)\n",
    "X = np.delete(X, 2, 1)\n",
    "y = asteroid_cat_encoded[:,2]\n",
    "\n",
    "print(X.shape)\n",
    "print(y.shape)"
   ]
  },
  {
   "cell_type": "markdown",
   "id": "61171946-df6f-4cdc-8ccb-813f5bdf4a82",
   "metadata": {},
   "source": [
    "# Logistic Regression Classification"
   ]
  },
  {
   "cell_type": "code",
   "execution_count": null,
   "id": "f0453953-5f1c-41f6-af2c-035730ae17ef",
   "metadata": {},
   "outputs": [],
   "source": [
    "from sklearn.linear_model import LogisticRegression\n",
    "from sklearn.metrics import accuracy_score, f1_score\n",
    "\n",
    "def logistic_regression():\n",
    "    # Initialization and fitting logisitic regression\n",
    "    log_reg = LogisticRegression(solver=\"newton-cg\", random_state=42)\n",
    "    log_reg.fit(X_train, y_train)\n",
    "\n",
    "    #Make predictions\n",
    "    y_pred = log_reg.predict(X_test)\n",
    "\n",
    "    #Model metrics\n",
    "    log_reg_accuracy = accuracy_score(y_test, y_pred)\n",
    "    log_reg_microf1 = f1_score(y_test, y_pred, average=\"micro\")\n",
    "    log_reg_macrof1 = f1_score(y_test, y_pred, average=\"macro\")\n",
    "\n",
    "    return log_reg, log_reg_accuracy, log_reg_microf1, log_reg_macrof1\n",
    "\n",
    "log_reg, log_reg_accuracy, log_reg_microf1, log_reg_macrof1 = logistic_regression()\n",
    "\n",
    "print(\"Accuracy: \", log_reg_accuracy)\n",
    "print(\"Micro F1 scorre: \", microf1)\n",
    "print(\"Macro F1 score: \", macrof1)"
   ]
  },
  {
   "cell_type": "code",
   "execution_count": null,
   "id": "707ae845-e5d9-47a0-b7d5-971ca6c4366d",
   "metadata": {},
   "outputs": [],
   "source": []
  }
 ],
 "metadata": {
  "kernelspec": {
   "display_name": "Python 3 (ipykernel)",
   "language": "python",
   "name": "python3"
  },
  "language_info": {
   "codemirror_mode": {
    "name": "ipython",
    "version": 3
   },
   "file_extension": ".py",
   "mimetype": "text/x-python",
   "name": "python",
   "nbconvert_exporter": "python",
   "pygments_lexer": "ipython3",
   "version": "3.11.5"
  }
 },
 "nbformat": 4,
 "nbformat_minor": 5
}
