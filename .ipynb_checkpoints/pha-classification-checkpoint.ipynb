{
 "cells": [
  {
   "cell_type": "markdown",
   "id": "1c298b01-6a63-4ff2-876e-a697db93bd18",
   "metadata": {},
   "source": [
    "# Setup"
   ]
  },
  {
   "cell_type": "code",
   "execution_count": 3,
   "id": "92c4d4b8-7253-4035-84fb-a66b3e148004",
   "metadata": {},
   "outputs": [],
   "source": [
    "import sklearn\n",
    "assert sklearn.__version__ >= \"0.20\"\n",
    "\n",
    "# To plot pretty figures\n",
    "%matplotlib inline\n",
    "import matplotlib as mpl\n",
    "import matplotlib.pyplot as plt\n",
    "mpl.rc('axes', labelsize=14)\n",
    "mpl.rc('xtick', labelsize=12)\n",
    "mpl.rc('ytick', labelsize=12)"
   ]
  },
  {
   "cell_type": "markdown",
   "id": "8ddcf2c2-af93-4eda-a166-7f657d6216f5",
   "metadata": {},
   "source": [
    "# Load dataset into variable"
   ]
  },
  {
   "cell_type": "code",
   "execution_count": 7,
   "id": "f0af9944-1274-4595-af8b-60122d20cb39",
   "metadata": {},
   "outputs": [],
   "source": [
    "import pandas as pd\n",
    "\n",
    "def load_asteroid_data():\n",
    "    csv_path = \"head.csv\"\n",
    "    return pd.read_csv(csv_path)"
   ]
  },
  {
   "cell_type": "code",
   "execution_count": 16,
   "id": "48e4de44-996b-4b03-a0b3-eb402663bc94",
   "metadata": {},
   "outputs": [
    {
     "name": "stdout",
     "output_type": "stream",
     "text": [
      "<class 'pandas.core.frame.DataFrame'>\n",
      "RangeIndex: 999 entries, 0 to 998\n",
      "Data columns (total 45 columns):\n",
      " #   Column          Non-Null Count  Dtype  \n",
      "---  ------          --------------  -----  \n",
      " 0   id              999 non-null    object \n",
      " 1   spkid           999 non-null    int64  \n",
      " 2   full_name       999 non-null    object \n",
      " 3   pdes            999 non-null    int64  \n",
      " 4   name            999 non-null    object \n",
      " 5   prefix          0 non-null      float64\n",
      " 6   neo             999 non-null    object \n",
      " 7   pha             999 non-null    object \n",
      " 8   H               999 non-null    float64\n",
      " 9   diameter        992 non-null    float64\n",
      " 10  albedo          991 non-null    float64\n",
      " 11  diameter_sigma  968 non-null    float64\n",
      " 12  orbit_id        999 non-null    object \n",
      " 13  epoch           999 non-null    float64\n",
      " 14  epoch_mjd       999 non-null    int64  \n",
      " 15  epoch_cal       999 non-null    float64\n",
      " 16  equinox         999 non-null    object \n",
      " 17  e               999 non-null    float64\n",
      " 18  a               999 non-null    float64\n",
      " 19  q               999 non-null    float64\n",
      " 20  i               999 non-null    float64\n",
      " 21  om              999 non-null    float64\n",
      " 22  w               999 non-null    float64\n",
      " 23  ma              999 non-null    float64\n",
      " 24  ad              999 non-null    float64\n",
      " 25  n               999 non-null    float64\n",
      " 26  tp              999 non-null    float64\n",
      " 27  tp_cal          999 non-null    float64\n",
      " 28  per             999 non-null    float64\n",
      " 29  per_y           999 non-null    float64\n",
      " 30  moid            999 non-null    float64\n",
      " 31  moid_ld         999 non-null    float64\n",
      " 32  sigma_e         999 non-null    float64\n",
      " 33  sigma_a         999 non-null    float64\n",
      " 34  sigma_q         999 non-null    float64\n",
      " 35  sigma_i         999 non-null    float64\n",
      " 36  sigma_om        999 non-null    float64\n",
      " 37  sigma_w         999 non-null    float64\n",
      " 38  sigma_ma        999 non-null    float64\n",
      " 39  sigma_ad        999 non-null    float64\n",
      " 40  sigma_n         999 non-null    float64\n",
      " 41  sigma_tp        999 non-null    float64\n",
      " 42  sigma_per       999 non-null    float64\n",
      " 43  class           999 non-null    object \n",
      " 44  rms             999 non-null    float64\n",
      "dtypes: float64(34), int64(3), object(8)\n",
      "memory usage: 351.3+ KB\n"
     ]
    }
   ],
   "source": [
    "asteroids = load_asteroid_data()\n",
    "#asteroids.head()\n",
    "asteroids.info()"
   ]
  },
  {
   "cell_type": "markdown",
   "id": "92dcfaed-b3cc-41f5-98ac-53ee0a590aba",
   "metadata": {},
   "source": [
    "# Converting object datatypes to numerical and standardizing data"
   ]
  },
  {
   "cell_type": "code",
   "execution_count": null,
   "id": "88412f9f-6489-4447-8ca8-bcbb9bd58daa",
   "metadata": {},
   "outputs": [],
   "source": [
    "from sklearn.preprocessing import OrdinalEncoder\n",
    "\n",
    "def data_preprocessing(data):\n",
    "    ordinal_encoder = OrdinalEncoder()\n",
    "    asteroid\n",
    "    "
   ]
  }
 ],
 "metadata": {
  "kernelspec": {
   "display_name": "Python 3 (ipykernel)",
   "language": "python",
   "name": "python3"
  },
  "language_info": {
   "codemirror_mode": {
    "name": "ipython",
    "version": 3
   },
   "file_extension": ".py",
   "mimetype": "text/x-python",
   "name": "python",
   "nbconvert_exporter": "python",
   "pygments_lexer": "ipython3",
   "version": "3.11.5"
  }
 },
 "nbformat": 4,
 "nbformat_minor": 5
}
